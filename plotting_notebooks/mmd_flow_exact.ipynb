{
 "cells": [
  {
   "cell_type": "code",
   "execution_count": null,
   "metadata": {},
   "outputs": [],
   "source": []
  },
  {
   "cell_type": "code",
   "execution_count": 43,
   "metadata": {},
   "outputs": [],
   "source": [
    "import numpy as np\n",
    "import jax\n",
    "import jax.numpy as jnp\n",
    "import matplotlib.pyplot as plt\n",
    "import os\n",
    "os.chdir(\"/home/zongchen/mmd_flow_cubature\")\n",
    "\n",
    "import sys\n",
    "sys.path.append(\"/home/zongchen/mmd_flow_cubature\")\n",
    "from mmd_flow.distributions import Distribution\n",
    "from mmd_flow.kernels import gaussian_kernel\n",
    "from mmd_flow.mmd import mmd_fixed_target\n",
    "from mmd_flow.gradient_flow import gradient_flow\n",
    "import mmd_flow.utils\n",
    "jax.config.update(\"jax_enable_x64\", True)\n",
    "jax.config.update(\"jax_platform_name\", \"cpu\")\n",
    "\n",
    "from tqdm import tqdm\n",
    "\n",
    "plt.rcParams['axes.grid'] = True\n",
    "plt.rcParams['font.family'] = 'DeJavu Serif'\n",
    "plt.rcParams['font.serif'] = ['Times New Roman']\n",
    "plt.rcParams['axes.labelsize'] = 18\n",
    "plt.rc('text', usetex=True)\n",
    "plt.rc('text.latex', preamble=r'\\usepackage{amsmath, amsfonts}')\n",
    "\n",
    "# plt.rc('font', family='Arial', size=12)\n",
    "plt.rc('axes', titlesize=16, labelsize=18, grid=True)\n",
    "plt.rc('lines', linewidth=2)\n",
    "plt.rc('legend', fontsize=18, frameon=False)\n",
    "plt.rc('xtick', labelsize=14, direction='in')\n",
    "plt.rc('ytick', labelsize=14, direction='in')\n",
    "plt.rc('figure', figsize=(6, 4), dpi=100)"
   ]
  },
  {
   "cell_type": "code",
   "execution_count": 44,
   "metadata": {},
   "outputs": [],
   "source": [
    "bandwidth = 1.0\n",
    "kernel = gaussian_kernel(bandwidth)\n",
    "covariances = jnp.load('data/mog_covs.npy')\n",
    "means = jnp.load('data/mog_means.npy')\n",
    "k = 20\n",
    "weights = jnp.ones(k) / k\n",
    "dim = 2\n",
    "distribution = Distribution(kernel=kernel, means=means, covariances=covariances, integrand_name='neg_exp', weights=weights)\n"
   ]
  },
  {
   "cell_type": "code",
   "execution_count": 49,
   "metadata": {},
   "outputs": [
    {
     "name": "stdout",
     "output_type": "stream",
     "text": [
      "MC estimate: [-0.00116426 -0.0045541   0.00773182]\n",
      "Closed form: [-0.0011639  -0.00454325  0.00774677]\n"
     ]
    }
   ],
   "source": [
    "import numpy as np\n",
    "import numpy.linalg as la\n",
    "\n",
    "def closed_form_expression(x, mu, Sigma, ell):\n",
    "    \"\"\"\n",
    "    Computes the user-provided closed form:\n",
    "    \n",
    "    det(2 ell^{-2} Sigma + I)^(-1/2)\n",
    "    * exp(-1/2 mu^T Sigma^{-1} mu)\n",
    "    * exp( -ell^{-2} ||x||^2\n",
    "           + 1/2 [ (2 ell^{-2} x - Sigma^{-1} mu)^T (2 ell^{-2} I + Sigma^{-1})^{-1} (2 ell^{-2} x - Sigma^{-1} mu ) ]\n",
    "         )\n",
    "    * [ -2 ell^{-2} x\n",
    "        + 2 ell^{-2} (2 ell^{-2} I + Sigma^{-1})^{-1} (2 ell^{-2} x - Sigma^{-1} mu)\n",
    "      ]\n",
    "      \n",
    "    which is a d-dimensional vector in x.\n",
    "    \"\"\"\n",
    "    d = len(x)\n",
    "    # A = 2 ell^{-2} I + Sigma^{-1}\n",
    "    invSigma = la.inv(Sigma)\n",
    "    A = invSigma + 2.0 * (1.0/(ell**2)) * np.eye(d)\n",
    "    invA = la.inv(A)\n",
    "    \n",
    "    # We can compute that piece exactly as user wrote:\n",
    "    #   det(2 ell^{-2} Sigma + I)^{ -1/2 }\n",
    "    # which is det(A Sigma^{-1})^{ -1/2 } if we like. We'll do it directly:\n",
    "    det_part = la.det(2.0*(1.0/(ell**2))*Sigma + np.eye(d))**(-0.5)\n",
    "    \n",
    "    # exponent part 1: exp(-1/2 mu^T Sigma^{-1} mu)\n",
    "    exp1 = np.exp(-0.5 * (mu.T @ invSigma @ mu))\n",
    "    \n",
    "    # exponent part 2:\n",
    "    #    - ell^{-2} ||x||^2\n",
    "    #  + 1/2 [ (2 ell^{-2} x - Sigma^{-1} mu)^T invA (2 ell^{-2} x - Sigma^{-1} mu ) ]\n",
    "    two_linv2_x = 2.0*(1.0/(ell**2))*x\n",
    "    # Actually the expression is: (2 ell^{-2} x - Sigma^{-1} mu)\n",
    "    # so let's define that vector:\n",
    "    b_vec = two_linv2_x + (invSigma @ mu)\n",
    "    exponent2 = (\n",
    "        - (1.0/(ell**2)) * (x.T @ x)\n",
    "        + 0.5 * (b_vec.T @ invA @ b_vec)\n",
    "    )\n",
    "    exp2 = np.exp(exponent2)\n",
    "    \n",
    "    # the bracketed vector term:\n",
    "    #    [ -2 ell^{-2} x\n",
    "    #      + 2 ell^{-2} invA (2 ell^{-2} x - Sigma^{-1} mu )\n",
    "    #    ]\n",
    "    bracket_term = (\n",
    "        -2.0*(1.0/(ell**2))*x\n",
    "        + 2.0*(1.0/(ell**2)) * (invA @ b_vec)\n",
    "    )\n",
    "\n",
    "    return det_part * exp1 * exp2 * bracket_term\n",
    "\n",
    "d = 3\n",
    "ell = 1.0\n",
    "mu  = np.array([0.5, -0.2, 1.0])\n",
    "# random positive-definite Sigma\n",
    "A_rand = np.random.randn(d, d)\n",
    "Sigma = A_rand @ A_rand.T + 0.5*np.eye(d)  # ensures PD\n",
    "x = np.array([1.0, 2.0, -1.0])\n",
    "\n",
    "# Number of Monte Carlo samples\n",
    "N = 3_000_000\n",
    "\n",
    "# Sample from N(mu, Sigma)\n",
    "Y = np.random.multivariate_normal(mu, Sigma, size=N)\n",
    "\n",
    "diff = Y - x[None, :]\n",
    "diff_sq = np.sum(diff**2, axis=1)\n",
    "part_1 = np.exp(- (ell**-2) * diff_sq)\n",
    "part_2 = -2 * (ell**-2) * (x[None, :] - Y)\n",
    "mc_estimate = (part_1[:, None] * part_2).mean(0)\n",
    "\n",
    "# Closed form\n",
    "cf = closed_form_expression(x, mu, Sigma, ell)\n",
    "\n",
    "print(\"MC estimate:\", mc_estimate)\n",
    "print(\"Closed form:\", cf)"
   ]
  },
  {
   "cell_type": "code",
   "execution_count": null,
   "metadata": {},
   "outputs": [],
   "source": [
    "\n",
    "def exact_integral(distribution, rate, trajectory):\n",
    "    ell = 1.0\n",
    "    diff_exact_list = []\n",
    "\n",
    "    # This is the integral with exact approximation\n",
    "    for i in range(0, trajectory.shape[0], rate):\n",
    "        x = trajectory[i, 0, :]\n",
    "        # Compute the closed-form solution using the provided formula\n",
    "\n",
    "        closed_form = 0 \n",
    "        for j in range(distribution.k):\n",
    "            mu = distribution.means[j, :]\n",
    "            Sigma = distribution.covariances[j, :, :]\n",
    "            closed_form += distribution.weights[j] * closed_form_expression(x, mu, Sigma, ell).squeeze()\n",
    "\n",
    "        # Compute the integral using numerical integration\n",
    "        y = trajectory[i, :, :]\n",
    "        diff = y - x[None, :]\n",
    "        diff_sq = np.sum(diff**2, axis=1)\n",
    "        part_1 = np.exp(- (ell**(-2)) * diff_sq)\n",
    "        part_2 = -2 * (ell**(-2)) * (x[None, :] - y)\n",
    "        mc_estimate = (part_1[:, None] * part_2).mean(0)\n",
    "\n",
    "        diff_exact = jnp.abs(closed_form.sum() - mc_estimate.sum())\n",
    "        diff_exact_list.append(diff_exact)\n",
    "    return np.array(diff_exact_list)\n"
   ]
  },
  {
   "cell_type": "code",
   "execution_count": 47,
   "metadata": {},
   "outputs": [
    {
     "name": "stderr",
     "output_type": "stream",
     "text": [
      "1it [00:13, 13.99s/it]\n"
     ]
    }
   ],
   "source": [
    "rate = 1\n",
    "# particle_num_list = [10, 30, 100, 300, 1000]\n",
    "particle_num_list = [10]\n",
    "step_num_list = [100000, 10000, 10000, 30000, 30000]\n",
    "seed_numbers = [0, 1, 2]\n",
    "\n",
    "diff_dict = {}\n",
    "for e, particle_num in tqdm(enumerate(particle_num_list)):\n",
    "    \n",
    "    for seed in seed_numbers:\n",
    "        dir_path = f\"/home/zongchen/mmd_flow_cubature/results/mmd_flow/mog_dataset/Gaussian_kernel/\"\n",
    "        dir_path += f\"__step_size_0.1__bandwidth_1.0__step_num_{step_num_list[e]}__particle_num_{particle_num}__inject_noise_scale_0.0__seed_{seed}/\"\n",
    "        trajectory = np.load(dir_path + f'Ys.npy')\n",
    "        if seed == 0:\n",
    "            diff_dict[particle_num] = np.zeros((len(seed_numbers), trajectory.shape[0]))\n",
    "            diff_dict[particle_num][seed, :] = exact_integral(distribution, rate, trajectory)\n",
    "        else:\n",
    "            diff_dict[particle_num][seed, :] = exact_integral(distribution, rate, trajectory)\n",
    "            "
   ]
  },
  {
   "cell_type": "code",
   "execution_count": 48,
   "metadata": {},
   "outputs": [
    {
     "data": {
      "image/png": "[encoded data removed]",
      "text/plain": [
       "<Figure size 600x400 with 1 Axes>"
      ]
     },
     "metadata": {},
     "output_type": "display_data"
    }
   ],
   "source": [
    "plt, axs = plt.subplots(1, 1, figsize=(6, 4))\n",
    "for particle_num in particle_num_list:\n",
    "    mean_diff = np.mean(diff_dict[particle_num], axis=0)\n",
    "    std_diff = np.std(diff_dict[particle_num], axis=0)\n",
    "    axs.plot(np.arange(0, mean_diff.shape[0], rate), mean_diff, label=f'particle_num={particle_num}')\n",
    "    axs.fill_between(np.arange(0, mean_diff.shape[0], rate), mean_diff - std_diff, mean_diff + std_diff, alpha=0.3)\n",
    "axs.set_yscale('log')\n",
    "axs.set_xlabel('Iteration')\n",
    "axs.set_ylabel('Error')\n",
    "axs.legend()\n",
    "plt.show()"
   ]
  }
 ],
 "metadata": {
  "kernelspec": {
   "display_name": "mmd_cubature",
   "language": "python",
   "name": "python3"
  },
  "language_info": {
   "codemirror_mode": {
    "name": "ipython",
    "version": 3
   },
   "file_extension": ".py",
   "mimetype": "text/x-python",
   "name": "python",
   "nbconvert_exporter": "python",
   "pygments_lexer": "ipython3",
   "version": "3.10.16"
  }
 },
 "nbformat": 4,
 "nbformat_minor": 2
}

{
 "cells": [
  {
   "cell_type": "code",
   "execution_count": 3,
   "metadata": {},
   "outputs": [],
   "source": [
    "import os\n",
    "import sys\n",
    "os.chdir('/home/zongchen/mmd_flow_cubature/')\n",
    "sys.path.append('/home/zongchen/mmd_flow_cubature/')\n",
    "import numpy as np\n",
    "import jax\n",
    "import jax.numpy as jnp\n",
    "import matplotlib.pyplot as plt\n",
    "jax.config.update(\"jax_platform_name\", \"cpu\")\n",
    "\n",
    "from mmd_flow.distributions import Distribution\n",
    "from mmd_flow.kernels import gaussian_kernel\n",
    "from mmd_flow.mmd import mmd_fixed_target\n",
    "from mmd_flow.gradient_flow import gradient_flow"
   ]
  },
  {
   "cell_type": "code",
   "execution_count": 4,
   "metadata": {},
   "outputs": [
    {
     "data": {
      "text/plain": [
       "<Figure size 640x480 with 0 Axes>"
      ]
     },
     "metadata": {},
     "output_type": "display_data"
    }
   ],
   "source": [
    "import numpy as np\n",
    "import jax\n",
    "import jax.numpy as jnp\n",
    "import matplotlib.pyplot as plt\n",
    "import os\n",
    "os.chdir(\"/home/zongchen/mmd_flow_cubature\")\n",
    "\n",
    "import sys\n",
    "sys.path.append(\"/home/zongchen/mmd_flow_cubature\")\n",
    "from mmd_flow.distributions import Distribution\n",
    "from mmd_flow.kernels import gaussian_kernel\n",
    "from mmd_flow.mmd import mmd_fixed_target\n",
    "from mmd_flow.gradient_flow import gradient_flow\n",
    "import mmd_flow.utils\n",
    "jax.config.update(\"jax_enable_x64\", True)\n",
    "jax.config.update(\"jax_platform_name\", \"cpu\")\n",
    "\n",
    "from tqdm import tqdm"
   ]
  },
  {
   "cell_type": "code",
   "execution_count": 5,
   "metadata": {},
   "outputs": [],
   "source": [
    "bandwidth = 1.0\n",
    "kernel = gaussian_kernel(bandwidth)\n",
    "covariances = jnp.load('data/mog_covs.npy')\n",
    "means = jnp.load('data/mog_means.npy')\n",
    "# means = jnp.zeros((20, 2))\n",
    "# covariances = jnp.array([jnp.eye(2) for _ in range(20)])\n",
    "k = 20\n",
    "weights = jnp.ones(k) / k\n",
    "distribution = Distribution(kernel=kernel, means=means, covariances=covariances, integrand_name='neg_exp', weights=weights)\n",
    "mmd_func = mmd_fixed_target(None, kernel, distribution)\n"
   ]
  },
  {
   "cell_type": "code",
   "execution_count": 6,
   "metadata": {},
   "outputs": [
    {
     "name": "stderr",
     "output_type": "stream",
     "text": [
      "100%|██████████| 10/10 [00:03<00:00,  2.96it/s]\n"
     ]
    },
    {
     "name": "stdout",
     "output_type": "stream",
     "text": [
      "0.2953346881985013 0.0\n"
     ]
    },
    {
     "name": "stderr",
     "output_type": "stream",
     "text": [
      "100%|██████████| 10/10 [00:03<00:00,  3.14it/s]\n"
     ]
    },
    {
     "name": "stdout",
     "output_type": "stream",
     "text": [
      "0.09471379833141584 0.0\n"
     ]
    },
    {
     "name": "stderr",
     "output_type": "stream",
     "text": [
      "100%|██████████| 10/10 [00:03<00:00,  3.02it/s]\n"
     ]
    },
    {
     "name": "stdout",
     "output_type": "stream",
     "text": [
      "0.023494052125516755 0.0\n"
     ]
    },
    {
     "name": "stderr",
     "output_type": "stream",
     "text": [
      "100%|██████████| 10/10 [00:13<00:00,  1.35s/it]"
     ]
    },
    {
     "name": "stdout",
     "output_type": "stream",
     "text": [
      "0.007240658509447128 0.0\n"
     ]
    },
    {
     "name": "stderr",
     "output_type": "stream",
     "text": [
      "\n"
     ]
    }
   ],
   "source": [
    "for particle_num in [10, 100, 1000, 10000]:\n",
    "    for seed in tqdm(range(10)):\n",
    "        temp_list = []\n",
    "        rng_key = jax.random.PRNGKey(seed)\n",
    "        iid_samples = distribution.sample(particle_num, rng_key)\n",
    "        # print(iid_samples)\n",
    "        mmd = mmd_func(iid_samples)\n",
    "        temp_list.append(mmd)\n",
    "    print(np.mean(temp_list), np.std(temp_list))\n"
   ]
  },
  {
   "cell_type": "code",
   "execution_count": 7,
   "metadata": {},
   "outputs": [
    {
     "name": "stdout",
     "output_type": "stream",
     "text": [
      "0.00023260273333841343 0.8134555777527258\n",
      "0.0001892119908346623\n",
      "0.00019394465995004295\n"
     ]
    }
   ],
   "source": [
    "def kme_double_RBF_diff_Gaussian(mu_1, mu_2, Sigma_1, Sigma_2, l):\n",
    "    \"\"\"\n",
    "    Computes the double integral a gaussian kernel with lengthscale l, with two different Gaussians.\n",
    "    \n",
    "    Args:\n",
    "        mu_1, mu_2: (D,) \n",
    "        Sigma_1, Sigma_2: (D, D)\n",
    "        l : scalar\n",
    "\n",
    "    Returns:\n",
    "        A scalar: the value of the integral.\n",
    "    \"\"\"\n",
    "    D = mu_1.shape[0]\n",
    "    l_ = l ** 2\n",
    "    Lambda = jnp.eye(D) * l_\n",
    "    sum_ = Sigma_1 + Sigma_2 + Lambda\n",
    "    part_1 = jnp.sqrt(jnp.linalg.det(Lambda) / jnp.linalg.det(sum_))\n",
    "    sum_inv = jnp.linalg.inv(sum_)\n",
    "    # Compute exponent: - (1/2) * mu^T * (Σ1 + Σ2 + Lambda)⁻¹ * Γ⁻¹ * mu\n",
    "    exp_term = -0.5 * ((mu_1 - mu_2).T @ sum_inv @ (mu_1 - mu_2))\n",
    "    exp_value = jnp.exp(exp_term)\n",
    "    print(part_1, exp_value)\n",
    "    result = part_1 * exp_value\n",
    "    return result\n",
    "\n",
    "\n",
    "D = 3  # Dimension\n",
    "mu_1 = jnp.array([1.0, -0.5, 0.3])\n",
    "mu_2 = jnp.array([0.5, 0.2, -0.1])\n",
    "Sigma_1 = jnp.array([[1.0, 0.2, 0.1], [0.2, 1.5, 0.3], [0.1, 0.3, 2.0]])\n",
    "Sigma_2 = jnp.array([[1.2, 0.1, 0.0], [0.1, 1.3, 0.2], [0.0, 0.2, 1.1]])\n",
    "\n",
    "l = 0.1 # Kernel bandwidth\n",
    "sample_size = 1000  # Monte Carlo sample sizes\n",
    "# Compute closed-form solution\n",
    "closed_form_value = kme_double_RBF_diff_Gaussian(mu_1, mu_2, Sigma_1, Sigma_2, l)\n",
    "print(closed_form_value)\n",
    "rng_key = jax.random.PRNGKey(0)\n",
    "# Generate samples from N(mu, Sigma)\n",
    "L_1 = jnp.linalg.cholesky(Sigma_1)  # Cholesky decomposition\n",
    "L_2 = jnp.linalg.cholesky(Sigma_2)  # Cholesky decomposition\n",
    "rng_key, subkey = jax.random.split(rng_key)\n",
    "z_1 = jax.random.normal(rng_key, shape=(sample_size, D))  # Standard normal samples\n",
    "rng_key, subkey = jax.random.split(rng_key)\n",
    "z_2 = jax.random.normal(rng_key, shape=(sample_size, D))  # Standard normal samples\n",
    "samples_1 = mu_1 + z_1 @ L_1.T  # Transform to N(mu, Sigma)\n",
    "samples_2 = mu_2 + z_2 @ L_2.T  # Transform to N(mu, Sigma)\n",
    "kernel = gaussian_kernel(l)\n",
    "K = kernel.make_distance_matrix(samples_1, samples_2)\n",
    "print(K.mean())  # Monte Carlo mean\n"
   ]
  }
 ],
 "metadata": {
  "kernelspec": {
   "display_name": "mmd_cubature",
   "language": "python",
   "name": "python3"
  },
  "language_info": {
   "codemirror_mode": {
    "name": "ipython",
    "version": 3
   },
   "file_extension": ".py",
   "mimetype": "text/x-python",
   "name": "python",
   "nbconvert_exporter": "python",
   "pygments_lexer": "ipython3",
   "version": "3.10.16"
  }
 },
 "nbformat": 4,
 "nbformat_minor": 2
}

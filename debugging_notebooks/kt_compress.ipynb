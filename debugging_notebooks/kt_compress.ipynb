{
 "cells": [
  {
   "cell_type": "code",
   "execution_count": 3,
   "metadata": {},
   "outputs": [],
   "source": [
    "from functools import partial\n",
    "import numpy as np\n",
    "from goodpoints import kt "
   ]
  },
  {
   "cell_type": "code",
   "execution_count": 4,
   "metadata": {},
   "outputs": [],
   "source": [
    "\n",
    "def kernel_eval(x, y, params_k):\n",
    "    \"\"\"Returns matrix of kernel evaluations kernel(xi, yi) for each row index i.\n",
    "    x and y should have the same number of columns, and x should either have the\n",
    "    same shape as y or consist of a single row, in which case, x is broadcasted \n",
    "    to have the same shape as y.\n",
    "    \"\"\"\n",
    "    if params_k[\"name\"] in [\"gauss\", \"gauss_rt\"]:\n",
    "        k_vals = np.sum((x-y)**2,axis=1)\n",
    "        scale = -.5/params_k[\"var\"]\n",
    "        return(np.exp(scale*k_vals))\n",
    "    \n",
    "    raise ValueError(\"Unrecognized kernel name {}\".format(params_k[\"name\"]))\n"
   ]
  },
  {
   "cell_type": "code",
   "execution_count": null,
   "metadata": {},
   "outputs": [
    {
     "ename": "NameError",
     "evalue": "name 'thin_rng' is not defined",
     "output_type": "error",
     "traceback": [
      "\u001b[0;31m---------------------------------------------------------------------------\u001b[0m",
      "\u001b[0;31mNameError\u001b[0m                                 Traceback (most recent call last)",
      "Cell \u001b[0;32mIn[5], line 18\u001b[0m\n\u001b[1;32m     14\u001b[0m split_kernel \u001b[38;5;241m=\u001b[39m partial(kernel_eval, params_k\u001b[38;5;241m=\u001b[39mparams_k_split)\n\u001b[1;32m     15\u001b[0m swap_kernel \u001b[38;5;241m=\u001b[39m partial(kernel_eval, params_k\u001b[38;5;241m=\u001b[39mparams_k_swap)\n\u001b[1;32m     17\u001b[0m thin \u001b[38;5;241m=\u001b[39m partial(kt\u001b[38;5;241m.\u001b[39mthin, m\u001b[38;5;241m=\u001b[39mg, split_kernel \u001b[38;5;241m=\u001b[39m split_kernel, swap_kernel \u001b[38;5;241m=\u001b[39m swap_kernel, \n\u001b[0;32m---> 18\u001b[0m                         seed \u001b[38;5;241m=\u001b[39m \u001b[43mthin_rng\u001b[49m, delta \u001b[38;5;241m=\u001b[39m thin_prob)\n",
      "\u001b[0;31mNameError\u001b[0m: name 'thin_rng' is not defined"
     ]
    }
   ],
   "source": [
    "delta = 0.5\n",
    "size = 4\n",
    "g = 0\n",
    "# Each Compress Halve call applied to an input of length l uses KT( l^2 * halve_prob ) \n",
    "halve_prob = delta / ( 4*(4**size)*(2**g)*( g + (2**g) * (size  - g) ) )\n",
    "###halve_prob = 0 if size == g else delta * .5 / (4 * (4**size) * (4 ** g) * (size - g) ) ###\n",
    "# Each Compress++ Thin call uses KT( thin_prob )\n",
    "thin_prob = delta * g / (g + ( (2**g)*(size - g) ))\n",
    "d = int(2)\n",
    "bandwidth = 1.0\n",
    "var = np.square(float(bandwidth))\n",
    "params_k_swap = {\"name\": \"gauss\", \"var\": var, \"d\": int(d)}\n",
    "params_k_split = {\"name\": \"gauss_rt\", \"var\": var/2., \"d\": int(d)}\n",
    "split_kernel = partial(kernel_eval, params_k=params_k_split)\n",
    "swap_kernel = partial(kernel_eval, params_k=params_k_swap)\n",
    "\n",
    "thin = partial(kt.thin, m=g, split_kernel = split_kernel, swap_kernel = swap_kernel, delta = thin_prob)\n",
    "\n",
    "coreset = compress.compresspp(X, halve, thin, args.g)"
   ]
  }
 ],
 "metadata": {
  "kernelspec": {
   "display_name": "mmd_cubature",
   "language": "python",
   "name": "python3"
  },
  "language_info": {
   "codemirror_mode": {
    "name": "ipython",
    "version": 3
   },
   "file_extension": ".py",
   "mimetype": "text/x-python",
   "name": "python",
   "nbconvert_exporter": "python",
   "pygments_lexer": "ipython3",
   "version": "3.10.16"
  }
 },
 "nbformat": 4,
 "nbformat_minor": 2
}

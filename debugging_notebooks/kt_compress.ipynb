{
 "cells": [
  {
   "cell_type": "code",
   "execution_count": 6,
   "metadata": {},
   "outputs": [],
   "source": [
    "from functools import partial\n",
    "import numpy as np\n",
    "from goodpoints import kt, compress"
   ]
  },
  {
   "cell_type": "code",
   "execution_count": 7,
   "metadata": {},
   "outputs": [],
   "source": [
    "\n",
    "def kernel_eval(x, y, params_k):\n",
    "    \"\"\"Returns matrix of kernel evaluations kernel(xi, yi) for each row index i.\n",
    "    x and y should have the same number of columns, and x should either have the\n",
    "    same shape as y or consist of a single row, in which case, x is broadcasted \n",
    "    to have the same shape as y.\n",
    "    \"\"\"\n",
    "    if params_k[\"name\"] in [\"gauss\", \"gauss_rt\"]:\n",
    "        k_vals = np.sum((x-y)**2,axis=1)\n",
    "        scale = -.5/params_k[\"var\"]\n",
    "        return(np.exp(scale*k_vals))\n",
    "    \n",
    "    raise ValueError(\"Unrecognized kernel name {}\".format(params_k[\"name\"]))\n"
   ]
  },
  {
   "cell_type": "code",
   "execution_count": 13,
   "metadata": {},
   "outputs": [],
   "source": [
    "delta = 0.5\n",
    "size = 4\n",
    "g = 0\n",
    "# Each Compress Halve call applied to an input of length l uses KT( l^2 * halve_prob ) \n",
    "halve_prob = delta / ( 4*(4**size)*(2**g)*( g + (2**g) * (size  - g) ) )\n",
    "###halve_prob = 0 if size == g else delta * .5 / (4 * (4**size) * (4 ** g) * (size - g) ) ###\n",
    "# Each Compress++ Thin call uses KT( thin_prob )\n",
    "thin_prob = delta * g / (g + ( (2**g)*(size - g) ))\n",
    "d = int(2)\n",
    "bandwidth = 1.0\n",
    "var = np.square(float(bandwidth))\n",
    "params_k_swap = {\"name\": \"gauss\", \"var\": var, \"d\": int(d)}\n",
    "params_k_split = {\"name\": \"gauss_rt\", \"var\": var/2., \"d\": int(d)}\n",
    "split_kernel = partial(kernel_eval, params_k=params_k_split)\n",
    "swap_kernel = partial(kernel_eval, params_k=params_k_swap)\n",
    "\n",
    "thin = partial(kt.thin, m=g, split_kernel = split_kernel, swap_kernel = swap_kernel, delta = thin_prob)\n",
    "halve = compress.symmetrize(lambda x: kt.thin(X = x, m=1, split_kernel = split_kernel, swap_kernel = swap_kernel, \n",
    "                                              unique=True, delta = halve_prob*(len(x)**2)))\n",
    "\n",
    "\n",
    "X = np.random.randn(1024, 2)\n",
    "coreset = compress.compresspp(X, halve, thin, g)"
   ]
  },
  {
   "cell_type": "code",
   "execution_count": 14,
   "metadata": {},
   "outputs": [
    {
     "data": {
      "text/plain": [
       "(32,)"
      ]
     },
     "execution_count": 14,
     "metadata": {},
     "output_type": "execute_result"
    }
   ],
   "source": [
    "coreset.shape"
   ]
  },
  {
   "cell_type": "code",
   "execution_count": null,
   "metadata": {},
   "outputs": [],
   "source": []
  }
 ],
 "metadata": {
  "kernelspec": {
   "display_name": "mmd_cubature",
   "language": "python",
   "name": "python3"
  },
  "language_info": {
   "codemirror_mode": {
    "name": "ipython",
    "version": 3
   },
   "file_extension": ".py",
   "mimetype": "text/x-python",
   "name": "python",
   "nbconvert_exporter": "python",
   "pygments_lexer": "ipython3",
   "version": "3.10.16"
  }
 },
 "nbformat": 4,
 "nbformat_minor": 2
}

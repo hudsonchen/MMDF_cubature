{
 "cells": [
  {
   "cell_type": "code",
   "execution_count": 4,
   "metadata": {},
   "outputs": [],
   "source": [
    "import os\n",
    "import sys\n",
    "os.chdir('/home/zongchen/mmd_flow_cubature/')\n",
    "sys.path.append('/home/zongchen/mmd_flow_cubature/')\n",
    "import numpy as np\n",
    "import jax\n",
    "import jax.numpy as jnp\n",
    "import matplotlib.pyplot as plt\n",
    "\n",
    "from mmd_flow.distributions import Distribution\n",
    "from mmd_flow.kernels import gaussian_kernel\n",
    "from mmd_flow.mmd import mmd_fixed_target\n",
    "from mmd_flow.gradient_flow import gradient_flow"
   ]
  },
  {
   "cell_type": "code",
   "execution_count": null,
   "metadata": {},
   "outputs": [],
   "source": []
  },
  {
   "cell_type": "code",
   "execution_count": 19,
   "metadata": {},
   "outputs": [
    {
     "name": "stdout",
     "output_type": "stream",
     "text": [
      "0.33333334\n",
      "0.3335045\n"
     ]
    }
   ],
   "source": [
    "d = 2\n",
    "cov = jnp.eye(d)\n",
    "# cov = jnp.array([[2.0, 1.0], [1.0, 2.0]])\n",
    "# means = jnp.array([-2.0, 2.0])\n",
    "means = jnp.array([-0.0, 0.0])\n",
    "\n",
    "cov_inv = jnp.linalg.inv(cov)\n",
    "temp = jnp.exp(0.5 * (means.T @ cov_inv @ jnp.linalg.inv(cov_inv + 2 * jnp.eye(d)) @ cov_inv @ means))\n",
    "temp *= jnp.exp(-0.5 * means.T @ cov_inv @ means)\n",
    "temp * jnp.sqrt(jnp.linalg.det(2 * cov + jnp.eye(d)))\n",
    "cov_new = jnp.linalg.inv(cov_inv + 2 * jnp.eye(d))\n",
    "integral = temp * jnp.sqrt(jnp.linalg.det(cov_inv)) * jnp.sqrt(jnp.linalg.det(cov_new))\n",
    "print(integral)\n",
    "\n",
    "samples = jax.random.multivariate_normal(jax.random.PRNGKey(0), means, cov, (1000000,))\n",
    "f_ = jnp.exp(-jnp.sum(samples**2, axis=1))\n",
    "integral = jnp.mean(f_)\n",
    "print(integral)"
   ]
  },
  {
   "cell_type": "code",
   "execution_count": null,
   "metadata": {},
   "outputs": [
    {
     "name": "stdout",
     "output_type": "stream",
     "text": [
      "0.3301388\n"
     ]
    }
   ],
   "source": []
  }
 ],
 "metadata": {
  "kernelspec": {
   "display_name": "mmd_cubature",
   "language": "python",
   "name": "python3"
  },
  "language_info": {
   "codemirror_mode": {
    "name": "ipython",
    "version": 3
   },
   "file_extension": ".py",
   "mimetype": "text/x-python",
   "name": "python",
   "nbconvert_exporter": "python",
   "pygments_lexer": "ipython3",
   "version": "3.10.16"
  }
 },
 "nbformat": 4,
 "nbformat_minor": 2
}

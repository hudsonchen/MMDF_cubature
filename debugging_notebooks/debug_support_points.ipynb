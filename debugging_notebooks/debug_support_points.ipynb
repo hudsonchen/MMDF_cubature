{
 "cells": [
  {
   "cell_type": "code",
   "execution_count": 2,
   "metadata": {},
   "outputs": [
    {
     "name": "stdout",
     "output_type": "stream",
     "text": [
      "Max abs diff: 6.291955845227903e-11\n",
      "✅ The outputs match!\n"
     ]
    }
   ],
   "source": [
    "import numpy as np\n",
    "from scipy.spatial.distance import cdist\n",
    "\n",
    "# --- Original loop-based version ---\n",
    "def update_support_loop(Y, X, wgts=None):\n",
    "    n, d = X.shape\n",
    "    N = np.sum(wgts) if wgts is not None else Y.shape[0]\n",
    "    X1 = np.zeros_like(X)\n",
    "\n",
    "    for i in range(n):\n",
    "        xi = X[i, :]\n",
    "        sum_term = np.zeros(d)\n",
    "        for j in range(n):\n",
    "            if i != j:\n",
    "                diff = xi - X[j, :]\n",
    "                sum_term += diff / np.linalg.norm(diff)\n",
    "        X1[i, :] = (N / n) * sum_term\n",
    "\n",
    "        q = 0.0\n",
    "        for k, y in enumerate(Y):\n",
    "            w = wgts[k] if wgts is not None else 1.0\n",
    "            nm = np.linalg.norm(y - xi)\n",
    "            X1[i, :] += w * y / nm\n",
    "            q += w / nm\n",
    "        X1[i, :] /= q\n",
    "\n",
    "    return X1\n",
    "\n",
    "# --- Vectorized version ---\n",
    "def update_support_vec(Y, X, wgts=None):\n",
    "    n, d = X.shape\n",
    "    N = np.sum(wgts) if wgts is not None else Y.shape[0]\n",
    "\n",
    "    diff = X[:, None, :] - X[None, :, :]  # shape (n, n, d)\n",
    "    norm = np.linalg.norm(diff, axis=-1, keepdims=True) + 1e-10\n",
    "\n",
    "    mask = ~np.eye(n, dtype=bool)\n",
    "    masked_diff = (diff / norm) * mask[..., None]\n",
    "    term1 = (N / n) * np.sum(masked_diff, axis=1)  # shape (n, d)\n",
    "\n",
    "    dists = cdist(X, Y) + 1e-10\n",
    "    weights = wgts if wgts is not None else np.ones(Y.shape[0])\n",
    "    term2 = np.dot(dists**-1, (weights[:, None] * Y))  # shape (n, d)\n",
    "    q = np.dot(dists**-1, weights)  # shape (n,)\n",
    "\n",
    "    X1 = term1 + term2\n",
    "    X1 /= q[:, None]\n",
    "    return X1\n",
    "\n",
    "# --- Test ---\n",
    "np.random.seed(42)\n",
    "Y = np.random.randn(200, 2)\n",
    "X = np.random.randn(50, 2)\n",
    "wgts = np.random.rand(Y.shape[0])\n",
    "\n",
    "X1_loop = update_support_loop(Y, X, wgts)\n",
    "X1_vec = update_support_vec(Y, X, wgts)\n",
    "\n",
    "# Compare\n",
    "print(\"Max abs diff:\", np.max(np.abs(X1_loop - X1_vec)))\n",
    "assert np.allclose(X1_loop, X1_vec, atol=1e-6), \"Mismatch between loop and vectorized version!\"\n",
    "print(\"✅ The outputs match!\")\n"
   ]
  }
 ],
 "metadata": {
  "kernelspec": {
   "display_name": "mmd_cubature",
   "language": "python",
   "name": "python3"
  },
  "language_info": {
   "codemirror_mode": {
    "name": "ipython",
    "version": 3
   },
   "file_extension": ".py",
   "mimetype": "text/x-python",
   "name": "python",
   "nbconvert_exporter": "python",
   "pygments_lexer": "ipython3",
   "version": "3.10.16"
  }
 },
 "nbformat": 4,
 "nbformat_minor": 2
}
